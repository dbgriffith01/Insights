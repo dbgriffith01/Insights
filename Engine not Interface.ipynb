{
 "cells": [
  {
   "cell_type": "markdown",
   "metadata": {
    "nbpresent": {
     "id": "c0f3191e-b863-49d4-83e0-8869ea5a428a"
    }
   },
   "source": [
    "# Minitab: Engine, Not Interface"
   ]
  },
  {
   "cell_type": "markdown",
   "metadata": {
    "nbpresent": {
     "id": "366422ea-4256-4953-b2b1-b927fe0b785e"
    }
   },
   "source": [
    "General Tips on using Minitab programmatically"
   ]
  },
  {
   "cell_type": "markdown",
   "metadata": {},
   "source": [
    "# [Example Applications](#example)\n",
    "- **Dashboard Example powered by Minitab's Engine**\n",
    "- **Minitab inside Excel Application**\n",
    "- **Customized Minitab Add-in**\n",
    "___\n",
    "\n",
    "# [Minitab's API: Quick Start](#quickstart)\n",
    "- **Launch Minitab**\n",
    "- **Control User Interface**\n",
    "- **Send Data to Minitab**\n",
    "- **Run Commands in Minitab**\n",
    "- **Get Data from Minitab**\n",
    "- **Retrieve Output from Minitab**\n",
    "___\n",
    "\n",
    "# [Create Word Report with Minitab](#wordreport)\n",
    "\n",
    "- **Demo**\n",
    "- **Get all Excel files from Directory**\n",
    "- **Create Macro without knowing Minitab Command Language**\n",
    "- **Send Output to Microsoft Word**\n",
    "___\n",
    "\n",
    "# [Analyze Mutual Fund Returns with Minitab](#stocks)\n",
    "\n",
    "- **Pull Data from Internet**\n",
    "- **Send data to Minitab**\n",
    "- **Analyze returns in Minitab**\n",
    "___\n",
    "\n",
    "# [Creating an Excel Function that uses Minitab](#excel)\n",
    "\n",
    "- **Create Excel Function**\n",
    "- **Send data to Minitab**\n",
    "- **Create I-Chart in Minitab**\n",
    "- **Paste Graph in Excel**\n",
    "___\n"
   ]
  },
  {
   "cell_type": "markdown",
   "metadata": {
    "nbpresent": {
     "id": "764c0c62-05c1-4042-a05c-3111ce9c21d6"
    }
   },
   "source": [
    "<a id='quickstart'></a>\n",
    "## Minitab's API: Quick Start\n",
    "\n",
    "### What is an API?\n",
    "API stands for Application Programming Interace.  This allows programmatic control over the application.\n",
    "\n",
    "Many Desktop and Web Applications have API's.  For example:\n",
    "* Twitter\n",
    "* Yelp\n",
    "* Microsoft Office (Word, PowerPoint, Excel)\n",
    "* And numerous others"
   ]
  },
  {
   "cell_type": "markdown",
   "metadata": {},
   "source": [
    "### Launch Minitab"
   ]
  },
  {
   "cell_type": "code",
   "execution_count": 1,
   "metadata": {
    "collapsed": true
   },
   "outputs": [],
   "source": [
    "import win32com.client as client\n",
    "mtb = client.Dispatch('Mtb.Application')\n",
    "ui = mtb.UserInterface\n",
    "project = mtb.ActiveProject\n",
    "sheet = project.ActiveWorksheet\n",
    "commands = project.Commands\n",
    "execute = project.ExecuteCommand"
   ]
  },
  {
   "cell_type": "markdown",
   "metadata": {},
   "source": [
    "### Control User Interface"
   ]
  },
  {
   "cell_type": "code",
   "execution_count": 4,
   "metadata": {
    "collapsed": true
   },
   "outputs": [],
   "source": [
    "# Toggle if you want Minitab to be Visible or not\n",
    "ui.Visible = True"
   ]
  },
  {
   "cell_type": "markdown",
   "metadata": {},
   "source": [
    "### Send Data to Minitab"
   ]
  },
  {
   "cell_type": "code",
   "execution_count": 5,
   "metadata": {
    "collapsed": false
   },
   "outputs": [
    {
     "name": "stdout",
     "output_type": "stream",
     "text": [
      "[0.8753861206328731, 0.5161499082637366, -2.4130401714580705, -0.006309318327902019, 0.3505115155086413, -1.641211834617457, 0.8197634506673382, 1.2887457395659607, 1.0665753557777646, -0.4062238079235458, -0.9795621698670592, 1.229835371824156, 1.4725502553135044, 0.5440953414442861, -0.3979942574422113, -0.7063331745734708, -1.85424695265871, -0.7459691780286564, -1.3076352868356016, -0.785618112379786]\n"
     ]
    }
   ],
   "source": [
    "import numpy as np\n",
    "data = np.random.normal(0,1,size = 20).tolist()\n",
    "print(data)"
   ]
  },
  {
   "cell_type": "code",
   "execution_count": 6,
   "metadata": {
    "collapsed": false
   },
   "outputs": [],
   "source": [
    "mtb_column = sheet.Columns.Add()\n",
    "mtb_column.Name = \"Data\"\n",
    "mtb_column.SetData(data)"
   ]
  },
  {
   "cell_type": "markdown",
   "metadata": {},
   "source": [
    "### Run Commands in Minitab"
   ]
  },
  {
   "cell_type": "code",
   "execution_count": 7,
   "metadata": {
    "collapsed": true
   },
   "outputs": [],
   "source": [
    "execute('normtest c1; spvalue c2.')"
   ]
  },
  {
   "cell_type": "markdown",
   "metadata": {},
   "source": [
    "### Get Data from Minitab"
   ]
  },
  {
   "cell_type": "code",
   "execution_count": 8,
   "metadata": {
    "collapsed": false,
    "scrolled": true
   },
   "outputs": [
    {
     "name": "stdout",
     "output_type": "stream",
     "text": [
      "0.528\n"
     ]
    }
   ],
   "source": [
    "p_val = sheet.Columns.Item(2).GetData(1, 1)\n",
    "print(p_val)"
   ]
  },
  {
   "cell_type": "markdown",
   "metadata": {},
   "source": [
    "### Retrieve Output from Minitab"
   ]
  },
  {
   "cell_type": "code",
   "execution_count": 9,
   "metadata": {
    "collapsed": true
   },
   "outputs": [],
   "source": [
    "mtb_graph = commands.Item(1).Outputs.Item(1).Graph\n",
    "mtb_graph.SaveAs(r'C:\\Insights\\normality', True, 1, 720,480)"
   ]
  },
  {
   "cell_type": "code",
   "execution_count": 10,
   "metadata": {
    "collapsed": false
   },
   "outputs": [
    {
     "data": {
      "image/jpeg": "[encoded data removed]",
      "text/plain": [
       "<IPython.core.display.Image object>"
      ]
     },
     "execution_count": 10,
     "metadata": {},
     "output_type": "execute_result"
    }
   ],
   "source": [
    "from IPython.display import Image\n",
    "Image(r'C:\\Insights\\normality.jpg')"
   ]
  },
  {
   "cell_type": "markdown",
   "metadata": {},
   "source": [
    "<a id='wordreport'></a>\n",
    "## Create Microsoft Word Report with Minitab\n",
    "Goal is to loop through each Excel file in a directory and create a report in Microsoft Word for with Minitab Output\n",
    "\n",
    "*Note: a couple helper functions are provided to make this process a little easier*"
   ]
  },
  {
   "cell_type": "code",
   "execution_count": 11,
   "metadata": {
    "collapsed": true
   },
   "outputs": [],
   "source": [
    "from insights import (create_macro_template, get_files_in_dir, \n",
    "                      write_macro_to_file, close_mtb)\n",
    "from os.path import join, basename, splitext\n",
    "# paths are used to determine the directory's for certain files\n",
    "path_to_graphs = r'C:\\Insights\\Graphs'\n",
    "path_to_data = r'C:\\Insights\\Data'\n",
    "path_to_reports = r'C:\\Insights\\Reports'"
   ]
  },
  {
   "cell_type": "markdown",
   "metadata": {},
   "source": [
    "Let's first close Minitab"
   ]
  },
  {
   "cell_type": "code",
   "execution_count": 12,
   "metadata": {
    "collapsed": true
   },
   "outputs": [],
   "source": [
    "close_mtb()"
   ]
  },
  {
   "cell_type": "markdown",
   "metadata": {},
   "source": [
    "### Demo\n",
    "\n",
    "Quick Demo to show the final product that we will be building"
   ]
  },
  {
   "cell_type": "markdown",
   "metadata": {},
   "source": [
    "### Get all Excel files from a Directory"
   ]
  },
  {
   "cell_type": "code",
   "execution_count": 13,
   "metadata": {
    "collapsed": false,
    "nbpresent": {
     "id": "0157ac51-c633-4d19-99bd-040ec35e74c6"
    }
   },
   "outputs": [],
   "source": [
    "excel_files = get_files_in_dir(path_to_data, suffix='xlsx')"
   ]
  },
  {
   "cell_type": "code",
   "execution_count": 14,
   "metadata": {
    "collapsed": false
   },
   "outputs": [
    {
     "data": {
      "text/plain": [
       "['C:\\\\Insights\\\\Data\\\\Depth.xlsx',\n",
       " 'C:\\\\Insights\\\\Data\\\\Height.xlsx',\n",
       " 'C:\\\\Insights\\\\Data\\\\Length.xlsx',\n",
       " 'C:\\\\Insights\\\\Data\\\\Width.xlsx']"
      ]
     },
     "execution_count": 14,
     "metadata": {},
     "output_type": "execute_result"
    }
   ],
   "source": [
    "excel_files"
   ]
  },
  {
   "cell_type": "markdown",
   "metadata": {},
   "source": [
    "### Create a Macro without knowing Minitab Command Language"
   ]
  },
  {
   "cell_type": "code",
   "execution_count": 15,
   "metadata": {
    "collapsed": true,
    "nbpresent": {
     "id": "b91bbbd8-ea5e-4f20-9cbd-280105b40c2d"
    }
   },
   "outputs": [],
   "source": [
    "# launch Minitab\n",
    "mtb = client.Dispatch('Mtb.Application')\n",
    "ui = mtb.UserInterface\n",
    "project = mtb.ActiveProject\n",
    "commands = project.Commands\n",
    "execute = project.ExecuteCommand"
   ]
  },
  {
   "cell_type": "code",
   "execution_count": 16,
   "metadata": {
    "collapsed": false,
    "nbpresent": {
     "id": "0a71edb0-8817-4f3a-be23-e6a8d9b64d46"
    }
   },
   "outputs": [],
   "source": [
    "# toggle if Minitab should be visible\n",
    "ui.Visible = True"
   ]
  },
  {
   "cell_type": "code",
   "execution_count": 17,
   "metadata": {
    "collapsed": false,
    "nbpresent": {
     "id": "71c4d858-10a2-4487-866b-01604c92c035"
    }
   },
   "outputs": [],
   "source": [
    "# toggle if Minitab should popup alerts\n",
    "ui.DisplayAlerts = False"
   ]
  },
  {
   "cell_type": "markdown",
   "metadata": {},
   "source": [
    "### Open Data in Minitab\n",
    "- Go to **File > Open**\n",
    "- Browse to *Depth.xlsx* and click **Open** then **OK**\n",
    "\n",
    "### Create I-Chart\n",
    "- Go to **Stat > Control Charts > Variables Charts for Individuals > Individuals**\n",
    "- Type *C2* in Variables\n",
    "- Click **Scale**, check **Stamp** and under Stamp columns type C1\n",
    "- Click **OK** and **OK**\n",
    "\n",
    "### Create Tolerance Interval\n",
    "- Go to **Stat > Quality Tools > Tolerance Intervals**\n",
    "- Type *C2*\n",
    "- Click **OK**\n",
    "\n",
    "Let's look to see the Minitab Command Language that was generated"
   ]
  },
  {
   "cell_type": "code",
   "execution_count": 18,
   "metadata": {
    "collapsed": false
   },
   "outputs": [
    {
     "name": "stdout",
     "output_type": "stream",
     "text": [
      "WOPEN \"C:\\Insights\\Data\\Depth.xlsx\"; FTYPE; EXCEL; DATA; IGNOREBLANKROWS; EQUALCOLUMNS; SHEET 1; VNAMES 1; FIRST 2; NROWS 50. \n",
      "ICHART c2; STAMP c1; DISPLAY 25. \n",
      "TOLINTERVALS c2; GTIPLOT; CONFIDENCE 95.0; PPERCENT 95.0. \n"
     ]
    }
   ],
   "source": [
    "for i in range(1, commands.Count + 1):\n",
    "    print(commands.Item(i).CommandLanguage)"
   ]
  },
  {
   "cell_type": "markdown",
   "metadata": {},
   "source": [
    "#### The Command Language is fine we just need to replace the path to the excel file"
   ]
  },
  {
   "cell_type": "code",
   "execution_count": 19,
   "metadata": {
    "collapsed": false
   },
   "outputs": [],
   "source": [
    "macro=create_macro_template(commands)"
   ]
  },
  {
   "cell_type": "code",
   "execution_count": 20,
   "metadata": {
    "collapsed": false
   },
   "outputs": [
    {
     "name": "stdout",
     "output_type": "stream",
     "text": [
      "WOPEN '{filename}';\n",
      " FTYPE;\n",
      " EXCEL;\n",
      " DATA;\n",
      " IGNOREBLANKROWS;\n",
      " EQUALCOLUMNS;\n",
      " SHEET 1;\n",
      " VNAMES 1;\n",
      " FIRST 2.\n",
      "ICHART c2;\n",
      " STAMP c1;\n",
      " DISPLAY 25. \n",
      "TOLINTERVALS c2;\n",
      " GTIPLOT;\n",
      " CONFIDENCE 95.0;\n",
      " PPERCENT 95.0. \n"
     ]
    }
   ],
   "source": [
    "print(macro)"
   ]
  },
  {
   "cell_type": "code",
   "execution_count": 21,
   "metadata": {
    "collapsed": false
   },
   "outputs": [
    {
     "name": "stdout",
     "output_type": "stream",
     "text": [
      "File Saved!\n"
     ]
    }
   ],
   "source": [
    "write_macro_to_file(r'C:\\Insights\\Macros\\spc.txt', macro)"
   ]
  },
  {
   "cell_type": "code",
   "execution_count": 22,
   "metadata": {
    "collapsed": false
   },
   "outputs": [],
   "source": [
    "# read macro file\n",
    "with open(r'C:\\Insights\\Macros\\spc.txt', 'r') as f:\n",
    "    macro = f.read()"
   ]
  },
  {
   "cell_type": "code",
   "execution_count": 23,
   "metadata": {
    "collapsed": true
   },
   "outputs": [],
   "source": [
    "# loop through all excel files\n",
    "for file in excel_files:\n",
    "    commands.Delete()\n",
    "    # run Minitab commands on that Excel File\n",
    "    execute(macro.format(filename=file))\n",
    "    # save the graph \n",
    "    for i in range(1,commands.Count+1):\n",
    "        for output in commands.Item(i).Outputs:\n",
    "            if output.OutputType==0: # 0 Output type is a graph\n",
    "                variable_name = splitext(basename(file))[0]\n",
    "                fname = join(path_to_graphs, commands.Item(i).CommandLanguage[:5] + '_' + variable_name)\n",
    "                output.Graph.SaveAs(fname, True, 1)"
   ]
  },
  {
   "cell_type": "code",
   "execution_count": 24,
   "metadata": {
    "collapsed": false
   },
   "outputs": [],
   "source": [
    "close_mtb()"
   ]
  },
  {
   "cell_type": "markdown",
   "metadata": {},
   "source": [
    "### Using Microsoft Word's API"
   ]
  },
  {
   "cell_type": "code",
   "execution_count": 25,
   "metadata": {
    "collapsed": true
   },
   "outputs": [],
   "source": [
    "word = client.Dispatch('Word.Application')"
   ]
  },
  {
   "cell_type": "code",
   "execution_count": 26,
   "metadata": {
    "collapsed": true
   },
   "outputs": [],
   "source": [
    "word.Visible = True"
   ]
  },
  {
   "cell_type": "code",
   "execution_count": 28,
   "metadata": {
    "collapsed": false
   },
   "outputs": [],
   "source": [
    "doc=word.Documents.Open(r'C:\\Insights\\Reports\\template\\quality_report_template.docx')"
   ]
  },
  {
   "cell_type": "code",
   "execution_count": 29,
   "metadata": {
    "collapsed": false
   },
   "outputs": [],
   "source": [
    "var_bmark = doc.Bookmarks(\"variable_name\").Range.Text = \"Depth\""
   ]
  },
  {
   "cell_type": "code",
   "execution_count": 30,
   "metadata": {
    "collapsed": false
   },
   "outputs": [],
   "source": [
    "cchart_bmark = doc.Bookmarks('cc_chart').Range.InlineShapes.AddPicture(r'C:\\Insights\\Graphs\\ICHAR_depth.jpg')"
   ]
  },
  {
   "cell_type": "code",
   "execution_count": 31,
   "metadata": {
    "collapsed": false
   },
   "outputs": [],
   "source": [
    "tol_bmark =doc.Bookmarks('tol_int').Range.InlineShapes.AddPicture(r'C:\\Insights\\Graphs\\TOLIN_depth.jpg')"
   ]
  },
  {
   "cell_type": "code",
   "execution_count": 32,
   "metadata": {
    "collapsed": false
   },
   "outputs": [],
   "source": [
    "doc.SaveAs(r'C:\\Insights\\Reports\\depth.docx')"
   ]
  },
  {
   "cell_type": "code",
   "execution_count": 33,
   "metadata": {
    "collapsed": true
   },
   "outputs": [],
   "source": [
    "doc.Close()"
   ]
  },
  {
   "cell_type": "markdown",
   "metadata": {},
   "source": [
    "### Function to Create Report"
   ]
  },
  {
   "cell_type": "code",
   "execution_count": 34,
   "metadata": {
    "collapsed": true
   },
   "outputs": [],
   "source": [
    "def create_report(word_app, var_name, path_to_report, path_to_graphs):\n",
    "    doc = word_app.Documents.Open(join(path_to_report, 'template','quality_report_template.docx'))\n",
    "    varname = doc.Bookmarks(\"variable_name\").Range.Text = var_name\n",
    "    cchart = doc.Bookmarks('cc_chart').Range.InlineShapes.AddPicture(join(path_to_graphs, 'ICHAR_' + var_name) + '.jpg')\n",
    "    tchart = doc.Bookmarks('tol_int').Range.InlineShapes.AddPicture(join(path_to_graphs, 'TOLIN_' + var_name) + '.jpg')\n",
    "    doc.SaveAs(join(path_to_report, var_name + '.docx'))\n",
    "    doc.Close()"
   ]
  },
  {
   "cell_type": "markdown",
   "metadata": {},
   "source": [
    "### Loop through Excel files and create report"
   ]
  },
  {
   "cell_type": "code",
   "execution_count": 35,
   "metadata": {
    "collapsed": false
   },
   "outputs": [],
   "source": [
    "for file in excel_files:\n",
    "    variable_name = splitext(basename(file))[0]\n",
    "    create_report(word, variable_name, path_to_reports, path_to_graphs)\n",
    "word.Quit\n",
    "del word"
   ]
  },
  {
   "cell_type": "markdown",
   "metadata": {},
   "source": [
    "## Analyze Mutual Fund Returns"
   ]
  },
  {
   "cell_type": "code",
   "execution_count": 36,
   "metadata": {
    "collapsed": true
   },
   "outputs": [],
   "source": [
    "from yahoo_finance import Share\n",
    "import pandas as pd\n",
    "start = '2016-01-01'\n",
    "end = '2016-09-12'"
   ]
  },
  {
   "cell_type": "code",
   "execution_count": 37,
   "metadata": {
    "collapsed": true
   },
   "outputs": [],
   "source": [
    "def get_finance_data(symbol, start, end):\n",
    "    data = Share(symbol)\n",
    "    prices = data.get_historical(start, end)\n",
    "    df = pd.DataFrame(prices)\n",
    "    df.drop(['Symbol', 'Low', 'High', 'Open', 'Close', 'Volume'], inplace=True, axis=1)\n",
    "    stocks = df.sort_values('Date')\n",
    "    stocks[['Adj_Close']] = stocks[['Adj_Close']].astype(float)\n",
    "    stocks['Percent_Change'] = stocks.Adj_Close/stocks.iloc[0,0]\n",
    "    stocks[['Percent_Change']] = stocks[['Percent_Change']].astype(float) -1\n",
    "    return stocks"
   ]
  },
  {
   "cell_type": "code",
   "execution_count": 38,
   "metadata": {
    "collapsed": false
   },
   "outputs": [
    {
     "data": {
      "text/html": [
       "<div>\n",
       "<table border=\"1\" class=\"dataframe\">\n",
       "  <thead>\n",
       "    <tr style=\"text-align: right;\">\n",
       "      <th></th>\n",
       "      <th>Adj_Close</th>\n",
       "      <th>Date</th>\n",
       "      <th>Percent_Change</th>\n",
       "    </tr>\n",
       "  </thead>\n",
       "  <tbody>\n",
       "    <tr>\n",
       "      <th>4</th>\n",
       "      <td>16.330000</td>\n",
       "      <td>2016-09-06</td>\n",
       "      <td>0.094504</td>\n",
       "    </tr>\n",
       "    <tr>\n",
       "      <th>3</th>\n",
       "      <td>16.330000</td>\n",
       "      <td>2016-09-07</td>\n",
       "      <td>0.094504</td>\n",
       "    </tr>\n",
       "    <tr>\n",
       "      <th>2</th>\n",
       "      <td>16.350000</td>\n",
       "      <td>2016-09-08</td>\n",
       "      <td>0.095845</td>\n",
       "    </tr>\n",
       "    <tr>\n",
       "      <th>1</th>\n",
       "      <td>16.320000</td>\n",
       "      <td>2016-09-09</td>\n",
       "      <td>0.093834</td>\n",
       "    </tr>\n",
       "    <tr>\n",
       "      <th>0</th>\n",
       "      <td>16.129999</td>\n",
       "      <td>2016-09-12</td>\n",
       "      <td>0.081099</td>\n",
       "    </tr>\n",
       "  </tbody>\n",
       "</table>\n",
       "</div>"
      ],
      "text/plain": [
       "   Adj_Close        Date  Percent_Change\n",
       "4  16.330000  2016-09-06        0.094504\n",
       "3  16.330000  2016-09-07        0.094504\n",
       "2  16.350000  2016-09-08        0.095845\n",
       "1  16.320000  2016-09-09        0.093834\n",
       "0  16.129999  2016-09-12        0.081099"
      ]
     },
     "execution_count": 38,
     "metadata": {},
     "output_type": "execute_result"
    }
   ],
   "source": [
    "my401k = get_finance_data('TRRKX', start, end)\n",
    "my401k.tail()"
   ]
  },
  {
   "cell_type": "code",
   "execution_count": 39,
   "metadata": {
    "collapsed": false
   },
   "outputs": [],
   "source": [
    "myReturns = [float(x) for x in my401k.Percent_Change.tolist()]\n",
    "date = my401k.Date.tolist()"
   ]
  },
  {
   "cell_type": "markdown",
   "metadata": {},
   "source": [
    "### Send the Data to Minitab to View"
   ]
  },
  {
   "cell_type": "code",
   "execution_count": 40,
   "metadata": {
    "collapsed": true
   },
   "outputs": [],
   "source": [
    "mtb = client.Dispatch('Mtb.Application')\n",
    "project = mtb.ActiveProject\n",
    "sheet = project.ActiveWorksheet\n",
    "ui = mtb.UserInterface"
   ]
  },
  {
   "cell_type": "code",
   "execution_count": 41,
   "metadata": {
    "collapsed": true
   },
   "outputs": [],
   "source": [
    "ui.Visible = True"
   ]
  },
  {
   "cell_type": "code",
   "execution_count": 42,
   "metadata": {
    "collapsed": false
   },
   "outputs": [],
   "source": [
    "mtb_401k = sheet.Columns.Add()\n",
    "mtb_401k.Name = \"My 401k\"\n",
    "mtb_401k.SetData(myReturns)\n",
    "mtb_date = sheet.Columns.Add()\n",
    "mtb_date.Name = \"Date\"\n",
    "mtb_date.SetData(date)"
   ]
  },
  {
   "cell_type": "code",
   "execution_count": 43,
   "metadata": {
    "collapsed": true
   },
   "outputs": [],
   "source": [
    "close_mtb()"
   ]
  },
  {
   "cell_type": "code",
   "execution_count": null,
   "metadata": {
    "collapsed": true
   },
   "outputs": [],
   "source": []
  }
 ],
 "metadata": {
  "anaconda-cloud": {},
  "kernelspec": {
   "display_name": "Python [Root]",
   "language": "python",
   "name": "Python [Root]"
  },
  "language_info": {
   "codemirror_mode": {
    "name": "ipython",
    "version": 3
   },
   "file_extension": ".py",
   "mimetype": "text/x-python",
   "name": "python",
   "nbconvert_exporter": "python",
   "pygments_lexer": "ipython3",
   "version": "3.5.2"
  },
  "nbpresent": {
   "slides": {
    "0331a70f-042b-467a-8e41-7adcf461948f": {
     "id": "0331a70f-042b-467a-8e41-7adcf461948f",
     "prev": null,
     "regions": {
      "f088191b-e405-4421-951d-1e28ff1ca338": {
       "attrs": {
        "height": 1,
        "width": 1,
        "x": -0.002043596730245232,
        "y": 0.004541326067211626
       },
       "content": {
        "cell": "0157ac51-c633-4d19-99bd-040ec35e74c6",
        "part": "whole"
       },
       "id": "f088191b-e405-4421-951d-1e28ff1ca338"
      }
     }
    }
   },
   "themes": {}
  }
 },
 "nbformat": 4,
 "nbformat_minor": 0
}
